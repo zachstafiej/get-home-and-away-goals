{
 "cells": [
  {
   "cell_type": "code",
   "execution_count": 35,
   "id": "a1c3541e-05e4-42b5-89ba-14f511595e71",
   "metadata": {},
   "outputs": [],
   "source": [
    "from nhlpy import NHLClient\n",
    "\n",
    "def get_team_abbreviation(full_team_name):\n",
    "    client = NHLClient()\n",
    "    teams_data = client.teams.teams_info()  \n",
    "\n",
    "    if not isinstance(teams_data, list):\n",
    "        print(\"Error: Unexpected teams data format.\")\n",
    "        return None\n",
    "\n",
    "    for team in teams_data:\n",
    "        if team.get(\"name\", \"\").lower() == full_team_name.lower():\n",
    "            return team.get(\"abbr\")\n",
    "\n",
    "    return None\n",
    "\n",
    "def get_team_goals(full_team_name, season=\"20242025\"):\n",
    "    client = NHLClient()\n",
    "    \n",
    "    team_abbr = get_team_abbreviation(full_team_name)\n",
    "\n",
    "    if not team_abbr:\n",
    "        print(f\"Error: Team '{full_team_name}' not found.\")\n",
    "        return\n",
    "\n",
    "    schedule = client.schedule.get_season_schedule(team_abbr=team_abbr, season=season)\n",
    "\n",
    "    games = schedule[\"games\"]\n",
    "\n",
    "    home_goals = 0\n",
    "    away_goals = 0\n",
    "\n",
    "    for game in games:\n",
    "        game_type = game.get(\"gameType\")\n",
    "        \n",
    "        if game_type != 2:\n",
    "            continue\n",
    "\n",
    "        home_team = game.get(\"homeTeam\", {})\n",
    "        away_team = game.get(\"awayTeam\", {})\n",
    "\n",
    "        if home_team.get(\"abbrev\") == team_abbr:\n",
    "            home_goals += home_team.get(\"score\", 0)\n",
    "        elif away_team.get(\"abbrev\") == team_abbr:\n",
    "            away_goals += away_team.get(\"score\", 0)\n",
    "\n",
    "    print(f\"{full_team_name} {season[:4]}-{season[4:]} Season.\")\n",
    "    print(f\"Home Goals: {home_goals}\")\n",
    "    print(f\"Away Goals: {away_goals}\")"
   ]
  },
  {
   "cell_type": "code",
   "execution_count": 37,
   "id": "e1949baa-e2cc-444c-bb01-9c76ae83b540",
   "metadata": {},
   "outputs": [
    {
     "name": "stdout",
     "output_type": "stream",
     "text": [
      "Edmonton Oilers 2024-2025 Season.\n",
      "Home Goals: 105\n",
      "Away Goals: 109\n"
     ]
    }
   ],
   "source": [
    "get_team_goals(\"Edmonton Oilers\")"
   ]
  },
  {
   "cell_type": "code",
   "execution_count": 39,
   "id": "7e14295f-0aa0-456b-8fee-c3c97135cd60",
   "metadata": {},
   "outputs": [
    {
     "name": "stdout",
     "output_type": "stream",
     "text": [
      "Chicago Blackhawks 2024-2025 Season.\n",
      "Home Goals: 98\n",
      "Away Goals: 86\n"
     ]
    }
   ],
   "source": [
    "get_team_goals(\"Chicago Blackhawks\")"
   ]
  },
  {
   "cell_type": "code",
   "execution_count": 41,
   "id": "c3e638e4-8e95-4e56-9849-b5ad3350f619",
   "metadata": {},
   "outputs": [
    {
     "name": "stdout",
     "output_type": "stream",
     "text": [
      "Colorado Avalanche 2024-2025 Season.\n",
      "Home Goals: 129\n",
      "Away Goals: 99\n"
     ]
    }
   ],
   "source": [
    "get_team_goals(\"Colorado Avalanche\")"
   ]
  }
 ],
 "metadata": {
  "kernelspec": {
   "display_name": "Python [conda env:base] *",
   "language": "python",
   "name": "conda-base-py"
  },
  "language_info": {
   "codemirror_mode": {
    "name": "ipython",
    "version": 3
   },
   "file_extension": ".py",
   "mimetype": "text/x-python",
   "name": "python",
   "nbconvert_exporter": "python",
   "pygments_lexer": "ipython3",
   "version": "3.12.7"
  }
 },
 "nbformat": 4,
 "nbformat_minor": 5
}
